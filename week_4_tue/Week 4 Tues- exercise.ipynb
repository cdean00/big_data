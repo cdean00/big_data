{
 "cells": [
  {
   "cell_type": "markdown",
   "metadata": {},
   "source": [
    "## Week 4 Tuesday Exercise\n",
    "\n",
    "**Assignment**: This exercise will use pandas to explore tweet data.  Specifically, you will:\n",
    "  \n",
    "* Read a file of tweets into a dataframe\n",
    "* Use pandas to describe and analyze the data\n",
    "* Discuss how these methods might be used by relevant firms\n",
    "\n",
    "For this exercise, you will have to complete all the tasks within this notebook, save the entire notebook, and then upload into the Week 4 Tuesday Assignment for your group on BlackBoard. Save this notebook with a new name with the following format:\n",
    "\n",
    "**Week_4_Tues_Exercise_Group_group_number.ipynb**\n",
    "\n",
    "These in-class exercises are designed to allow you to explore Python with your group and **DO NOT** include step-by-step directions or answers that have only one possibility. Use your team and other resources to determine how best to complete them. Make sure before you turn in your notebook that it runs without errors and the requested output is visible in the notebook. If you go through multiple steps in your code, make sure all those steps are included so that we can evaluate your work."
   ]
  },
  {
   "cell_type": "markdown",
   "metadata": {},
   "source": [
    "First off, unzip and read the tweet data from the file from the datasets folder named 'pokemon.zip' into a dataframe and examine the dataset.\n",
    "\n",
    "**Analyze Tweet Data**"
   ]
  },
  {
   "cell_type": "code",
   "execution_count": 6,
   "metadata": {
    "collapsed": false
   },
   "outputs": [],
   "source": [
    "# This code block is to make the tweets_list function available. You don't need to modify anything here, just run it.\n",
    "\n",
    "import json\n",
    "\n",
    "def tweets_list(filename):\n",
    "    \"\"\"\n",
    "    Read lines from filepath and file into a list of dictionaries.\n",
    "    \n",
    "    Parameters\n",
    "    ----------\n",
    "    filename: str\n",
    "    \"\"\"\n",
    "    tweets = []\n",
    "    f = open(filename, 'r')\n",
    "    for line in f:\n",
    "        try:\n",
    "            tweet = json.loads(line)\n",
    "            tweets.append(tweet)\n",
    "        except:\n",
    "            continue\n",
    "    return tweets     "
   ]
  },
  {
   "cell_type": "code",
   "execution_count": 7,
   "metadata": {
    "collapsed": false
   },
   "outputs": [],
   "source": [
    "# Read file with tweet data into a variable using tweets_list\n",
    "\n",
    "data = tweets_list('./datasets/pokemon.txt')"
   ]
  },
  {
   "cell_type": "code",
   "execution_count": 21,
   "metadata": {
    "collapsed": false
   },
   "outputs": [
    {
     "data": {
      "text/plain": [
       "list"
      ]
     },
     "execution_count": 21,
     "metadata": {},
     "output_type": "execute_result"
    }
   ],
   "source": [
    "# What datatype is data\n",
    "type(data)"
   ]
  },
  {
   "cell_type": "code",
   "execution_count": 12,
   "metadata": {
    "collapsed": false
   },
   "outputs": [],
   "source": [
    "# Now, read the data variable into a dataframe\n",
    "import pandas as pd\n",
    "\n",
    "tweet_df = pd.DataFrame(data)"
   ]
  },
  {
   "cell_type": "code",
   "execution_count": 27,
   "metadata": {
    "collapsed": false
   },
   "outputs": [
    {
     "data": {
      "text/plain": [
       "contributors                    0\n",
       "coordinates                     0\n",
       "created_at                   2859\n",
       "entities                     2859\n",
       "extended_entities             800\n",
       "favorite_count               2859\n",
       "favorited                    2859\n",
       "filter_level                 2859\n",
       "geo                             0\n",
       "id                           2859\n",
       "id_str                       2859\n",
       "in_reply_to_screen_name       359\n",
       "in_reply_to_status_id         307\n",
       "in_reply_to_status_id_str     307\n",
       "in_reply_to_user_id           359\n",
       "in_reply_to_user_id_str       359\n",
       "is_quote_status              2859\n",
       "lang                         2859\n",
       "place                          52\n",
       "possibly_sensitive           1827\n",
       "quoted_status                 142\n",
       "quoted_status_id              142\n",
       "quoted_status_id_str          142\n",
       "retweet_count                2859\n",
       "retweeted                    2859\n",
       "retweeted_status             1076\n",
       "source                       2859\n",
       "text                         2859\n",
       "timestamp_ms                 2859\n",
       "truncated                    2859\n",
       "user                         2859\n",
       "user_location                1828\n",
       "dtype: int64"
      ]
     },
     "execution_count": 27,
     "metadata": {},
     "output_type": "execute_result"
    }
   ],
   "source": [
    "# How many tweets are in the tweet dataframe?\n",
    "tweet_df.count()"
   ]
  },
  {
   "cell_type": "code",
   "execution_count": null,
   "metadata": {
    "collapsed": false
   },
   "outputs": [],
   "source": [
    "# How many of the tweets are retweets? If they are not retweeted, they have no data.\n"
   ]
  },
  {
   "cell_type": "code",
   "execution_count": null,
   "metadata": {
    "collapsed": false
   },
   "outputs": [],
   "source": [
    "# How many of the tweets are determined to be English?\n"
   ]
  },
  {
   "cell_type": "markdown",
   "metadata": {},
   "source": [
    "With nested data like this, you can unpack individual columns with multiple values into their own column. The syntax is beyond the scope of this course, but is as follows:\n",
    "```\n",
    "dataframe['new column'] = dataframe['column to unpack'].map(lambda tweet: tweet['key to unpack'])\n",
    "```\n"
   ]
  },
  {
   "cell_type": "code",
   "execution_count": 26,
   "metadata": {
    "collapsed": false
   },
   "outputs": [],
   "source": [
    "# This code creates a new column called 'user_location' from the nested data in the user column\n",
    "tweet_df['user_location'] = tweet_df['user'].map(lambda tweet: tweet['location'])"
   ]
  },
  {
   "cell_type": "code",
   "execution_count": null,
   "metadata": {
    "collapsed": false
   },
   "outputs": [],
   "source": [
    "# How many tweets originated in the user location of Hyrule?\n"
   ]
  },
  {
   "cell_type": "markdown",
   "metadata": {},
   "source": [
    "## Written Response 1\n",
    "(Enter Your Response in This Cell)\n",
    "\n",
    "What other nested variables might you want to unpack into your dataframe for analysis if you were a data scientist for the Pokémon Company (which is owned by Ninetendo)? \n",
    "\n",
    "Remember, you can use:\n",
    "```\n",
    "df.ix[row number][column to display]\n",
    "```\n",
    "to explore individual cases to help with this question)"
   ]
  },
  {
   "cell_type": "markdown",
   "metadata": {},
   "source": [
    "## Written Response 2\n",
    "(Enter Your Response in This Cell)\n",
    "\n",
    "* How do you think the Pokémon Company uses streaming data like this?\n",
    "* What specific applications could it have for product development?\n",
    "* What other streaming datasets (internal or external) might the Pokémon Company use with the Twitter data?"
   ]
  },
  {
   "cell_type": "markdown",
   "metadata": {},
   "source": [
    "## Written Response 3\n",
    "(Enter Your Response in This Cell)\n",
    "\n",
    "What would be one approach to measuring the impact of a negative tweet using data like this? (use specific fields from the tweet data in your response) "
   ]
  },
  {
   "cell_type": "markdown",
   "metadata": {},
   "source": [
    "## Written Response 4\n",
    "(Enter Your Response in This Cell)\n",
    "\n",
    "Picking a company where one of you works, what streaming data sources might be useful for you and what sorts of research questions could they inform?\n",
    "\n",
    "Skybe for business call quality data\n",
    "Syslog forwarder"
   ]
  },
  {
   "cell_type": "markdown",
   "metadata": {},
   "source": [
    "## Written Response 5\n",
    "(Enter Your Response in This Cell)\n",
    "\n",
    "Review this post about the Twitter metadata you were using- https://blog.twitter.com/2013/introducing-new-metadata-for-tweets\n",
    "\n",
    "* How might some tweets lead to the language attribute being inaccurate or undetermined?"
   ]
  }
 ],
 "metadata": {
  "kernelspec": {
   "display_name": "Python 2",
   "language": "python",
   "name": "python2"
  },
  "language_info": {
   "codemirror_mode": {
    "name": "ipython",
    "version": 2
   },
   "file_extension": ".py",
   "mimetype": "text/x-python",
   "name": "python",
   "nbconvert_exporter": "python",
   "pygments_lexer": "ipython2",
   "version": "2.7.11"
  }
 },
 "nbformat": 4,
 "nbformat_minor": 0
}
