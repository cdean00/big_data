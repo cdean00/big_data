{
 "cells": [
  {
   "cell_type": "markdown",
   "metadata": {},
   "source": [
    "# Week 5 Exercise\n",
    "\n",
    "**Assignment**: This exercise will explore applications of machine learning. Specifically, your group will have to complete the following:\n",
    "  \n",
    "* Describe model fit\n",
    "* Describe applications for supervised learning\n",
    "* Describe applications for unsupervised learning\n",
    "* Hypothesize on potential cluster groupings\n",
    "* Comment on the future of machine learning\n",
    "\n",
    "\n",
    "For this exercise, you will have to complete all the tasks within this notebook, save the entire notebook, and then upload into the Week 5 Assignment for your group on BlackBoard. Save this notebook with a new name with the following format:\n",
    "\n",
    "**Week_5_Exercise_Group_group_number.ipynb**\n",
    "\n",
    "These in-class exercises are designed to allow you to explore Python with your group and **DO NOT** include step-by-step directions or answers that have only one possibility. Use your team and other resources to determine how best to complete them. Make sure before you turn in your notebook that it runs without errors and the requested output is visible in the notebook. If you go through multiple steps in your code, make sure all those steps are included so that we can evaluate your work."
   ]
  },
  {
   "cell_type": "markdown",
   "metadata": {},
   "source": [
    "## Supervised Learning"
   ]
  },
  {
   "cell_type": "markdown",
   "metadata": {},
   "source": [
    "## Written Response 1\n",
    "(Enter Your Response in This Cell)\n",
    "\n",
    "* What is \"model fit\" and why is it important when interpreting output from models like those in supervised machine learning?\n",
    " * Model fit describes how well a given statistical model fits a given data set. On example is model fit for regression analysis and the coefficient of determination. The model fit can be used to interpret outputs to determine if the outputs are within known observations.\n",
    "\n",
    "\n",
    "* How might \"model fit\" and \"overfitting\" lead to inaccurate interpretations (use an example)?\n",
    " * Most supervised models will present a good model fit after enough training data is given but may still give inaccurate predictions given new data. This problem is called overfitting.\n",
    " * Overfitting causes inaccurate results because it incorporates noise in the data and can exaggerate fluctuations in the data, especially in excessively complex models."
   ]
  },
  {
   "cell_type": "markdown",
   "metadata": {},
   "source": [
    "## Written Response 2\n",
    "(Enter Your Response in This Cell)\n",
    "\n",
    "* What are some examples from your work where supervised learning could be applied?\n",
    " * Known network attack signatures can be used as a training set in order to detect and alert on potential attacks happening in real-time. Extrahop and Riverbed products are examples of products that use big data and machine learning to do exactly this.\n",
    " * Identified voltage/wattage readings from smart meters can be used to train a supervised machine learning alogorithm in order to detect when power theft could be occuring on the power grid.\n",
    " \n",
    " \n",
    "* What benefit would machine learning have over simple reports of frequency for the same data?\n",
    " * Could start predicting trends and stop threats without having to explicitly be defined\n",
    " * Notify admins of power theft attempts before substantial financial loss in incurred"
   ]
  },
  {
   "cell_type": "markdown",
   "metadata": {},
   "source": [
    "## Unsupervised Learning"
   ]
  },
  {
   "cell_type": "markdown",
   "metadata": {},
   "source": [
    "## Written Response 3\n",
    "(Enter Your Response in This Cell)\n",
    "\n",
    "* How could unsupervised learning be used by the Pokémon Company to group users using Twitter data?\n",
    " * By grouping using keywords commonly found (in the tweets), groups could be formed based on those keywords, and presumably, track similar conversations/topics being discussed\n",
    "* What value would user groups have for the company overall and functions like marketing?\n",
    " * If using our example above, and the unsupervised learning can detect certain topics being discussed, folks in the marketing group could then analyze that data (grouping) further to determine what customer reaction/feedback may be in regards to the product or recent marketing campaign."
   ]
  },
  {
   "cell_type": "markdown",
   "metadata": {},
   "source": [
    "## Written Response 4\n",
    "(Enter Your Response in This Cell)\n",
    "\n",
    "* Without running any analyses, what types of useful user groups do you think the Pokémon Company might find if they were to run a machine learning clustering analysis on Twitter data?\n",
    " * Age of potential/current customers\n",
    " * Location\n",
    " * Income/wealth\n",
    " * Loyal vs new customer bases"
   ]
  },
  {
   "cell_type": "markdown",
   "metadata": {},
   "source": [
    "## Written Response 5\n",
    "(Enter Your Response in This Cell)\n",
    "\n",
    "Artificial intelligence and the general idea of machine learning is a field that has been around since 1955. \n",
    "\n",
    "* Why do you think ML has attracted so much more attention and investment in the past 10 years compared to the previous 50?\n",
    " * Compared to the last 50 years, the ability and availabity to processing and storage capabilities has exponentially increased in the last 10 years which  has allowed machine learning to happen on common, cheaper PC architectures compared to mainframes or super computers. On top of this, the Internet has exploded in usage which has significantly increased the amount of data available. This has caused a push into machine learning as one method to make information out of the large, mostly unstructured data from the Internet. "
   ]
  },
  {
   "cell_type": "markdown",
   "metadata": {},
   "source": [
    "## Written Response 6\n",
    "(Enter Your Response in This Cell)\n",
    "\n",
    "* How important do you think machine learning is for the future of data science and analytics (support your answer with examples and data as appropriate)?\n",
    " * We believe machine learning will continue to play a key role in data science and analytics. As IoT devices begin to become mainstream there will be an onslaught of data coming from these devices resulting in massive amounts of structurued and unstructured data to be analyzed. Machine learning can be used to help classify this type of data into groups or make predictions from the data that is being received in real-time. For example, a power utility could have millions of meters spread throughout the power grid each reporting data. Machine learning can be used to predict outages, power theft, or other new trends such as additional electric cars in a given area."
   ]
  },
  {
   "cell_type": "code",
   "execution_count": null,
   "metadata": {
    "collapsed": true
   },
   "outputs": [],
   "source": []
  }
 ],
 "metadata": {
  "kernelspec": {
   "display_name": "Python 2",
   "language": "python",
   "name": "python2"
  },
  "language_info": {
   "codemirror_mode": {
    "name": "ipython",
    "version": 2
   },
   "file_extension": ".py",
   "mimetype": "text/x-python",
   "name": "python",
   "nbconvert_exporter": "python",
   "pygments_lexer": "ipython2",
   "version": "2.7.11"
  }
 },
 "nbformat": 4,
 "nbformat_minor": 0
}
