{
 "cells": [
  {
   "cell_type": "markdown",
   "metadata": {},
   "source": [
    "## Week 2 Exercise\n",
    "\n",
    "**Assignment**: This exercise will use a live, publicly accessable API to collect multiple categories of data in order to conduct analyses and create visulizations.  Spefically, you will:\n",
    "  \n",
    "* Collect data from a public website\n",
    "* Read data into dataframes\n",
    "* Develop a research question(s)\n",
    "* Inform that research question with visualizations\n",
    "* Inform that research question with basic statistics\n",
    "* Provide a short write up of your analysis\n",
    "* Generalize this analysis to \"big data\"\n",
    "\n",
    "For this exercise, you will have to complete all the tasks within this notebook, save the entire notebook, and then upload into the Week 2 Assignment for your group on BlackBoard. Save this notebook with a new name with the following format:\n",
    "\n",
    "**Week_2_Exercise_Group_group_number.ipynb**\n",
    "\n",
    "These in-class exercises are designed to allow you to explore Python with your group and **DO NOT** include step-by-step directions or answers that have only one possibility. Use your team and other resources to determine how best to complete them. Make sure before you turn in your notebook that it runs without errors and the requested output is visible in the notebook. If you go through multiple steps in your code, make sure all those steps are included so that we can evaluate your work."
   ]
  },
  {
   "cell_type": "markdown",
   "metadata": {},
   "source": [
    "## Basketball Statistics\n",
    "\n",
    "For this exercise, we are going to use the National Basketball Association's statitics site. We will be using a Python library called [requests](http://docs.python-requests.org/en/latest/) to send a URL to their http://stats.nba.com site to query it for player shot data. Requests makes it easy to do \"web scaping\" like this. The data returned from the website is JSON, but we will reading that JSON into a pandas dataframe for analysis.\n",
    "\n",
    "In order to make the retreival of the data easier, we have written a function that will return the shot statistics for any player for the 2014-2015 season. You have already been using simple functions like <code>type</code> and <code>id</code>, but in this case we are writing our own. Once you run the code in the cell below, the function <code>get_shot_stats</code> will be available for you to use just as any other Python function. Our function has one input parameter which is the NBA's player id.\n",
    "\n",
    "Run the code in the following block to make the function available for use in the notebook namespace."
   ]
  },
  {
   "cell_type": "code",
   "execution_count": null,
   "metadata": {
    "collapsed": false
   },
   "outputs": [],
   "source": [
    "shot_chart_url = 'http://stats.nba.com/stats/shotchartdetail/?CFID=33&CFPAR'\\\n",
    "                    'AMS=2014-15&ContextFilter=&ContextMeasure=FGA&DateFrom=&D'\\\n",
    "                    'ateTo=&GameID=&GameSegment=&LastNGames=0&LeagueID=00&Loca'\\\n",
    "                    'tion=&MeasureType=Base&Month=0&OpponentTeamID=0&Outcome=&'\\\n",
    "                    'PaceAdjust=N&PerMode=PerGame&Period=0&PlayerID={}&Plu'\\\n",
    "                    'sMinus=N&Position=&Rank=N&RookieYear=&Season=2014-15&Seas'\\\n",
    "                    'onSegment=&SeasonType=Regular+Season&TeamID=0&VsConferenc'\\\n",
    "                    'e=&VsDivision=&mode=Advanced&showDetails=0&showShots=1&sh'\\\n",
    "                    'owZones=0'\n",
    "                   \n",
    "print shot_chart_url"
   ]
  },
  {
   "cell_type": "code",
   "execution_count": null,
   "metadata": {
    "collapsed": false
   },
   "outputs": [],
   "source": [
    "import requests\n",
    "import pandas as pd\n",
    "import nbastats.nbastats as nbastats\n",
    "\n",
    "def get_shot_stats(player_id):\n",
    "    \"\"\"\n",
    "    Return a dataframe of player shot statistics from the NBA API.\n",
    "    \n",
    "    Keyword arguments:\n",
    "    player_id: the integer player id from http://stats.nba.com\n",
    "    \"\"\"\n",
    "\n",
    "    shot_chart_url = 'http://stats.nba.com/player/#!/202688/stats/?Season=2014-15&SeasonType=Regular%20Season'                    \n",
    "                    \n",
    "    response = requests.get(shot_chart_url)\n",
    "    headers = response.json()['resultSets'][0]['headers']\n",
    "    shots = response.json()['resultSets'][0]['rowSet']\n",
    "    shot_df = pd.DataFrame(shots, columns=headers)\n",
    "    \n",
    "    return shot_df"
   ]
  },
  {
   "cell_type": "markdown",
   "metadata": {},
   "source": [
    "Now, let's use the function to collect data for Phoenix Sun's player Brandon Knight. We happen to know Brandon Knight's id number is 202688."
   ]
  },
  {
   "cell_type": "code",
   "execution_count": null,
   "metadata": {
    "collapsed": true
   },
   "outputs": [],
   "source": [
    "# Assign Brandon's id to a variable.\n",
    "brandon = 202688"
   ]
  },
  {
   "cell_type": "code",
   "execution_count": null,
   "metadata": {
    "collapsed": false
   },
   "outputs": [],
   "source": [
    "# Use our fucntion to get Brandon's stats and assign the returned dataframe to var.\n",
    "brandon_shots = get_shot_stats(brandon)"
   ]
  },
  {
   "cell_type": "code",
   "execution_count": null,
   "metadata": {
    "collapsed": false
   },
   "outputs": [],
   "source": [
    "# Print the dataframe to make sure it worked.\n",
    "print brandon_shots"
   ]
  },
  {
   "cell_type": "code",
   "execution_count": null,
   "metadata": {
    "collapsed": true
   },
   "outputs": [],
   "source": []
  },
  {
   "cell_type": "markdown",
   "metadata": {},
   "source": [
    "With larger dataframe like this, returning the columns attribute via <code>df.columns</code> is a convienent way to see the column names without printing the entire dataframe. \n",
    "\n",
    "Using your knowledge of data selection, indexing, boolean masks, and the dataframe function <code>.sum()</code>, print out the number of baskets Brandon made both playing for the Suns and the Bucks."
   ]
  },
  {
   "cell_type": "code",
   "execution_count": null,
   "metadata": {
    "collapsed": false
   },
   "outputs": [],
   "source": [
    "# Print the number of baskets Brandon made as a Sun.\n",
    "shots_made_Suns = brandon_shots[(brandon_shots.TEAM_NAME == 'Phoenix Suns') & (brandon_shots.SHOT_MADE_FLAG == 1)]\n",
    "shots_made_Suns['SHOT_MADE_FLAG'].sum()\n"
   ]
  },
  {
   "cell_type": "code",
   "execution_count": null,
   "metadata": {
    "collapsed": false
   },
   "outputs": [],
   "source": [
    "# Print the number of baskets Brandon made as a Buck.\n",
    "shots_made_Bucks = brandon_shots[(brandon_shots.TEAM_NAME == 'Milwaukee Bucks') & (brandon_shots.SHOT_MADE_FLAG == 1)]\n",
    "shots_made_Bucks['SHOT_MADE_FLAG'].sum()"
   ]
  },
  {
   "cell_type": "markdown",
   "metadata": {},
   "source": [
    "The pandas selection and statistics functions offer a powerful tool to explore datasets like the one we collected from the NBA. Let's give you one more tool before we continue- visualization.\n",
    "\n",
    "In the next code block we are going to import a function that allows us to visualize Brandon's shots on a basketball court. Specifically, this function draws the court. When you are working with matplotlib plots in Python, you can think of each individual function as drawing a layer and the <code>draw_court</code> function will provide the court layer that you will plot on top of. Run the following code block to see that."
   ]
  },
  {
   "cell_type": "code",
   "execution_count": null,
   "metadata": {
    "collapsed": false
   },
   "outputs": [],
   "source": [
    "# Let's read in a helper function for drawing and set up plotting\n",
    "\n",
    "import matplotlib.pyplot as plt\n",
    "from draw_court import draw_court\n",
    "# Thanks to Savvas Tjortjoglou for letting us use his code in our course!\n",
    "%pylab inline\n",
    "pylab.rcParams['figure.figsize'] = (10.0, 10.0)"
   ]
  },
  {
   "cell_type": "code",
   "execution_count": null,
   "metadata": {
    "collapsed": false
   },
   "outputs": [],
   "source": [
    "# Call the helper function to draw a court\n",
    "\n",
    "plt.figure('court')# Begin plotting a figure called court.\n",
    "draw_court(outer_lines=True)# Call the draw_court function.\n",
    "plt.xlim(-300,300)# Set the limits of the canvas for the x axis.\n",
    "plt.ylim(-100,450)# Set the limits of the canvas for the y axis\n",
    "plt.show()# Display the figure."
   ]
  },
  {
   "cell_type": "markdown",
   "metadata": {},
   "source": [
    "While we will look in more detail at plotting in a future lab, we want to give you one more plotting tool, <code>plt.scatter()</code>.\n",
    "\n",
    "The <code>plt.scatter()</code> allows you to create a scatter plot by passing in a matrix of x and y coordinates. Detailed documentation is here:\n",
    "\n",
    "* http://matplotlib.org/api/pyplot_api.html#matplotlib.pyplot.scatter\n",
    "\n",
    "The code in the following code block is a simple example of this using random data."
   ]
  },
  {
   "cell_type": "code",
   "execution_count": null,
   "metadata": {
    "collapsed": false
   },
   "outputs": [],
   "source": [
    "import numpy as np # Import NumPy to generate random numbers.\n",
    "\n",
    "plt.figure('scatter')# Begin plotting a figure called scatter.\n",
    "x = np.random.rand(5000)# Generate 5000 random points for the x axis.\n",
    "y = np.random.rand(5000)# Generate a corresponding 5000 points for the y axis.\n",
    "plt.xlim(0,1)# Set the limits of the canvas for the x axis.\n",
    "plt.ylim(0,1)# Set the limits of the canvas for the y axis.\n",
    "plt.scatter(x,y, alpha=.5)# Plot the points with alpha value to make semi-transparent.\n",
    "plt.show()# Show the plot in the notebook."
   ]
  },
  {
   "cell_type": "code",
   "execution_count": null,
   "metadata": {
    "collapsed": false
   },
   "outputs": [],
   "source": [
    "plt.figure('scatter')\n",
    "x = brandon_shots['LOC_X']# make this just a column of the X shot locations from your datafrane above like dataframe['LOC_X']\n",
    "y = brandon_shots['LOC_Y']# make this just a column of the Y shot locations from your datafrane above like dataframe['LOC_Y']\n",
    "plt.xlim(-300,300)\n",
    "plt.ylim(-100,450)\n",
    "draw_court(outer_lines=True)\n",
    "plt.scatter(x,y, alpha=.5)\n",
    "plt.show()"
   ]
  },
  {
   "cell_type": "markdown",
   "metadata": {},
   "source": [
    "Finally, if you want to generate dataframes for other players than Brandon, you can lookup player numbers at http://stats.nba.com/. Player numbers appear in the page query parameters as shown below:\n",
    "\n",
    "<img src=\"https://raw.githubusercontent.com/azbones/big_data/master/images/brandon.png\">"
   ]
  },
  {
   "cell_type": "markdown",
   "metadata": {},
   "source": [
    "# Written Response 1:\n",
    "_(Enter Your Response in This Cell)_\n",
    "\n",
    "Develop and enter a research question in this markdown box that you can explore with the NBA data, dataframe functions, and plotting. Do not use Brandon Knight in this question.\n",
    "\n",
    "Specically, use scatter plots to plot player shot selection on the pyplot court image. Try to make the research question more interesting by exploring something beyond just shot selection for a single player across the whole season across the whole game.\n",
    "\n",
    ">>Using the statistics from the NBA, we want to examine James Harden's stats. Using this data we aim to calculate whether James Harden makes more 3PT FGs during the first or second half of the game.  Our approach is to try and determine if Harden is more accurate in the beginnig of a game (more energy/stamina/well rested) versus later in the game (more exhausted), or if he increased his accuracy later in the game, under the assumption that he feels the need to score more points (in order to win), which puts more pressure on him to make the shots.\n",
    "\n",
    ">>Research Question: Does James Harden perform better with 3 pt FGs in the first or second half of a game?\n",
    "\n",
    ">>Our graph/data will show on the court diagram 3 pt FGs made when time is <=24 minutes vs when time is >24 minute (4 quarters of 12 minutes each, so 24 minutes per half)."
   ]
  },
  {
   "cell_type": "code",
   "execution_count": 1,
   "metadata": {
    "collapsed": false
   },
   "outputs": [
    {
     "ename": "JSONDecodeError",
     "evalue": "Expecting value: line 1 column 1 (char 0)",
     "output_type": "error",
     "traceback": [
      "\u001b[1;31m---------------------------------------------------------------------------\u001b[0m",
      "\u001b[1;31mJSONDecodeError\u001b[0m                           Traceback (most recent call last)",
      "\u001b[1;32m<ipython-input-1-126a3f4abd78>\u001b[0m in \u001b[0;36m<module>\u001b[1;34m()\u001b[0m\n\u001b[0;32m      8\u001b[0m \u001b[1;31m#Determine Harden's player number and retrieve the data from the NBA stats site\u001b[0m\u001b[1;33m\u001b[0m\u001b[1;33m\u001b[0m\u001b[0m\n\u001b[0;32m      9\u001b[0m \u001b[0mJAMES_PLAYER_ID\u001b[0m \u001b[1;33m=\u001b[0m \u001b[1;36m201935\u001b[0m\u001b[1;33m\u001b[0m\u001b[0m\n\u001b[1;32m---> 10\u001b[1;33m \u001b[0mjames\u001b[0m \u001b[1;33m=\u001b[0m \u001b[0mnbastats\u001b[0m\u001b[1;33m.\u001b[0m\u001b[0mShotChart\u001b[0m\u001b[1;33m(\u001b[0m\u001b[0mJAMES_PLAYER_ID\u001b[0m\u001b[1;33m)\u001b[0m\u001b[1;33m\u001b[0m\u001b[0m\n\u001b[0m\u001b[0;32m     11\u001b[0m \u001b[0mjames\u001b[0m\u001b[1;33m.\u001b[0m\u001b[0mshotchart\u001b[0m\u001b[1;33m(\u001b[0m\u001b[1;33m)\u001b[0m\u001b[1;33m.\u001b[0m\u001b[0mhead\u001b[0m\u001b[1;33m(\u001b[0m\u001b[1;36m2\u001b[0m\u001b[1;33m)\u001b[0m\u001b[1;33m\u001b[0m\u001b[0m\n\u001b[0;32m     12\u001b[0m \u001b[1;33m\u001b[0m\u001b[0m\n",
      "\u001b[1;32mC:\\Users\\djdunton\\AppData\\Local\\Continuum\\Anaconda2\\lib\\site-packages\\nbastats-1.1.0-py2.7.egg\\nbastats\\nbastats.pyc\u001b[0m in \u001b[0;36m__init__\u001b[1;34m(self, playerid, leagueid, season, seasontype, teamid, gameid, outcome, location, month, seasonsegment, datefrom, dateto, opponentteamid, vsconf, vsdiv, position, gamesegment, period, lastngames, aheadbehind, contextmeasure, clutchtime, rookieyear)\u001b[0m\n\u001b[0;32m     36\u001b[0m              }\n\u001b[0;32m     37\u001b[0m         \u001b[0mself\u001b[0m\u001b[1;33m.\u001b[0m\u001b[0m_x\u001b[0m \u001b[1;33m=\u001b[0m \u001b[0mrequests\u001b[0m\u001b[1;33m.\u001b[0m\u001b[0mget\u001b[0m\u001b[1;33m(\u001b[0m\u001b[0mself\u001b[0m\u001b[1;33m.\u001b[0m\u001b[0m_url\u001b[0m\u001b[1;33m,\u001b[0m \u001b[0mparams\u001b[0m\u001b[1;33m=\u001b[0m\u001b[0mself\u001b[0m\u001b[1;33m.\u001b[0m\u001b[0m_api_param\u001b[0m\u001b[1;33m)\u001b[0m\u001b[1;33m\u001b[0m\u001b[0m\n\u001b[1;32m---> 38\u001b[1;33m         \u001b[0mself\u001b[0m\u001b[1;33m.\u001b[0m\u001b[0m_x\u001b[0m \u001b[1;33m=\u001b[0m \u001b[0mself\u001b[0m\u001b[1;33m.\u001b[0m\u001b[0m_x\u001b[0m\u001b[1;33m.\u001b[0m\u001b[0mjson\u001b[0m\u001b[1;33m(\u001b[0m\u001b[1;33m)\u001b[0m\u001b[1;33m\u001b[0m\u001b[0m\n\u001b[0m\u001b[0;32m     39\u001b[0m     \u001b[1;32mdef\u001b[0m \u001b[0mshotchart\u001b[0m\u001b[1;33m(\u001b[0m\u001b[0mself\u001b[0m\u001b[1;33m)\u001b[0m\u001b[1;33m:\u001b[0m\u001b[1;33m\u001b[0m\u001b[0m\n\u001b[0;32m     40\u001b[0m         \u001b[1;32mreturn\u001b[0m \u001b[0mpd\u001b[0m\u001b[1;33m.\u001b[0m\u001b[0mDataFrame\u001b[0m\u001b[1;33m(\u001b[0m\u001b[0mself\u001b[0m\u001b[1;33m.\u001b[0m\u001b[0m_x\u001b[0m\u001b[1;33m[\u001b[0m\u001b[1;34m'resultSets'\u001b[0m\u001b[1;33m]\u001b[0m\u001b[1;33m[\u001b[0m\u001b[1;36m0\u001b[0m\u001b[1;33m]\u001b[0m\u001b[1;33m[\u001b[0m\u001b[1;34m'rowSet'\u001b[0m\u001b[1;33m]\u001b[0m\u001b[1;33m,\u001b[0m\u001b[0mcolumns\u001b[0m\u001b[1;33m=\u001b[0m\u001b[0mself\u001b[0m\u001b[1;33m.\u001b[0m\u001b[0m_x\u001b[0m\u001b[1;33m[\u001b[0m\u001b[1;34m'resultSets'\u001b[0m\u001b[1;33m]\u001b[0m\u001b[1;33m[\u001b[0m\u001b[1;36m0\u001b[0m\u001b[1;33m]\u001b[0m\u001b[1;33m[\u001b[0m\u001b[1;34m'headers'\u001b[0m\u001b[1;33m]\u001b[0m\u001b[1;33m)\u001b[0m\u001b[1;33m\u001b[0m\u001b[0m\n",
      "\u001b[1;32mC:\\Users\\djdunton\\AppData\\Local\\Continuum\\Anaconda2\\lib\\site-packages\\requests\\models.pyc\u001b[0m in \u001b[0;36mjson\u001b[1;34m(self, **kwargs)\u001b[0m\n\u001b[0;32m    806\u001b[0m                     \u001b[1;31m# used.\u001b[0m\u001b[1;33m\u001b[0m\u001b[1;33m\u001b[0m\u001b[0m\n\u001b[0;32m    807\u001b[0m                     \u001b[1;32mpass\u001b[0m\u001b[1;33m\u001b[0m\u001b[0m\n\u001b[1;32m--> 808\u001b[1;33m         \u001b[1;32mreturn\u001b[0m \u001b[0mcomplexjson\u001b[0m\u001b[1;33m.\u001b[0m\u001b[0mloads\u001b[0m\u001b[1;33m(\u001b[0m\u001b[0mself\u001b[0m\u001b[1;33m.\u001b[0m\u001b[0mtext\u001b[0m\u001b[1;33m,\u001b[0m \u001b[1;33m**\u001b[0m\u001b[0mkwargs\u001b[0m\u001b[1;33m)\u001b[0m\u001b[1;33m\u001b[0m\u001b[0m\n\u001b[0m\u001b[0;32m    809\u001b[0m \u001b[1;33m\u001b[0m\u001b[0m\n\u001b[0;32m    810\u001b[0m     \u001b[1;33m@\u001b[0m\u001b[0mproperty\u001b[0m\u001b[1;33m\u001b[0m\u001b[0m\n",
      "\u001b[1;32mC:\\Users\\djdunton\\AppData\\Local\\Continuum\\Anaconda2\\lib\\site-packages\\simplejson\\__init__.pyc\u001b[0m in \u001b[0;36mloads\u001b[1;34m(s, encoding, cls, object_hook, parse_float, parse_int, parse_constant, object_pairs_hook, use_decimal, **kw)\u001b[0m\n\u001b[0;32m    514\u001b[0m             \u001b[0mparse_constant\u001b[0m \u001b[1;32mis\u001b[0m \u001b[0mNone\u001b[0m \u001b[1;32mand\u001b[0m \u001b[0mobject_pairs_hook\u001b[0m \u001b[1;32mis\u001b[0m \u001b[0mNone\u001b[0m\u001b[1;33m\u001b[0m\u001b[0m\n\u001b[0;32m    515\u001b[0m             and not use_decimal and not kw):\n\u001b[1;32m--> 516\u001b[1;33m         \u001b[1;32mreturn\u001b[0m \u001b[0m_default_decoder\u001b[0m\u001b[1;33m.\u001b[0m\u001b[0mdecode\u001b[0m\u001b[1;33m(\u001b[0m\u001b[0ms\u001b[0m\u001b[1;33m)\u001b[0m\u001b[1;33m\u001b[0m\u001b[0m\n\u001b[0m\u001b[0;32m    517\u001b[0m     \u001b[1;32mif\u001b[0m \u001b[0mcls\u001b[0m \u001b[1;32mis\u001b[0m \u001b[0mNone\u001b[0m\u001b[1;33m:\u001b[0m\u001b[1;33m\u001b[0m\u001b[0m\n\u001b[0;32m    518\u001b[0m         \u001b[0mcls\u001b[0m \u001b[1;33m=\u001b[0m \u001b[0mJSONDecoder\u001b[0m\u001b[1;33m\u001b[0m\u001b[0m\n",
      "\u001b[1;32mC:\\Users\\djdunton\\AppData\\Local\\Continuum\\Anaconda2\\lib\\site-packages\\simplejson\\decoder.pyc\u001b[0m in \u001b[0;36mdecode\u001b[1;34m(self, s, _w, _PY3)\u001b[0m\n\u001b[0;32m    368\u001b[0m         \u001b[1;32mif\u001b[0m \u001b[0m_PY3\u001b[0m \u001b[1;32mand\u001b[0m \u001b[0misinstance\u001b[0m\u001b[1;33m(\u001b[0m\u001b[0ms\u001b[0m\u001b[1;33m,\u001b[0m \u001b[0mbinary_type\u001b[0m\u001b[1;33m)\u001b[0m\u001b[1;33m:\u001b[0m\u001b[1;33m\u001b[0m\u001b[0m\n\u001b[0;32m    369\u001b[0m             \u001b[0ms\u001b[0m \u001b[1;33m=\u001b[0m \u001b[0ms\u001b[0m\u001b[1;33m.\u001b[0m\u001b[0mdecode\u001b[0m\u001b[1;33m(\u001b[0m\u001b[0mself\u001b[0m\u001b[1;33m.\u001b[0m\u001b[0mencoding\u001b[0m\u001b[1;33m)\u001b[0m\u001b[1;33m\u001b[0m\u001b[0m\n\u001b[1;32m--> 370\u001b[1;33m         \u001b[0mobj\u001b[0m\u001b[1;33m,\u001b[0m \u001b[0mend\u001b[0m \u001b[1;33m=\u001b[0m \u001b[0mself\u001b[0m\u001b[1;33m.\u001b[0m\u001b[0mraw_decode\u001b[0m\u001b[1;33m(\u001b[0m\u001b[0ms\u001b[0m\u001b[1;33m)\u001b[0m\u001b[1;33m\u001b[0m\u001b[0m\n\u001b[0m\u001b[0;32m    371\u001b[0m         \u001b[0mend\u001b[0m \u001b[1;33m=\u001b[0m \u001b[0m_w\u001b[0m\u001b[1;33m(\u001b[0m\u001b[0ms\u001b[0m\u001b[1;33m,\u001b[0m \u001b[0mend\u001b[0m\u001b[1;33m)\u001b[0m\u001b[1;33m.\u001b[0m\u001b[0mend\u001b[0m\u001b[1;33m(\u001b[0m\u001b[1;33m)\u001b[0m\u001b[1;33m\u001b[0m\u001b[0m\n\u001b[0;32m    372\u001b[0m         \u001b[1;32mif\u001b[0m \u001b[0mend\u001b[0m \u001b[1;33m!=\u001b[0m \u001b[0mlen\u001b[0m\u001b[1;33m(\u001b[0m\u001b[0ms\u001b[0m\u001b[1;33m)\u001b[0m\u001b[1;33m:\u001b[0m\u001b[1;33m\u001b[0m\u001b[0m\n",
      "\u001b[1;32mC:\\Users\\djdunton\\AppData\\Local\\Continuum\\Anaconda2\\lib\\site-packages\\simplejson\\decoder.pyc\u001b[0m in \u001b[0;36mraw_decode\u001b[1;34m(self, s, idx, _w, _PY3)\u001b[0m\n\u001b[0;32m    398\u001b[0m             \u001b[1;32melif\u001b[0m \u001b[0mord0\u001b[0m \u001b[1;33m==\u001b[0m \u001b[1;36m0xef\u001b[0m \u001b[1;32mand\u001b[0m \u001b[0ms\u001b[0m\u001b[1;33m[\u001b[0m\u001b[0midx\u001b[0m\u001b[1;33m:\u001b[0m\u001b[0midx\u001b[0m \u001b[1;33m+\u001b[0m \u001b[1;36m3\u001b[0m\u001b[1;33m]\u001b[0m \u001b[1;33m==\u001b[0m \u001b[1;34m'\\xef\\xbb\\xbf'\u001b[0m\u001b[1;33m:\u001b[0m\u001b[1;33m\u001b[0m\u001b[0m\n\u001b[0;32m    399\u001b[0m                 \u001b[0midx\u001b[0m \u001b[1;33m+=\u001b[0m \u001b[1;36m3\u001b[0m\u001b[1;33m\u001b[0m\u001b[0m\n\u001b[1;32m--> 400\u001b[1;33m         \u001b[1;32mreturn\u001b[0m \u001b[0mself\u001b[0m\u001b[1;33m.\u001b[0m\u001b[0mscan_once\u001b[0m\u001b[1;33m(\u001b[0m\u001b[0ms\u001b[0m\u001b[1;33m,\u001b[0m \u001b[0midx\u001b[0m\u001b[1;33m=\u001b[0m\u001b[0m_w\u001b[0m\u001b[1;33m(\u001b[0m\u001b[0ms\u001b[0m\u001b[1;33m,\u001b[0m \u001b[0midx\u001b[0m\u001b[1;33m)\u001b[0m\u001b[1;33m.\u001b[0m\u001b[0mend\u001b[0m\u001b[1;33m(\u001b[0m\u001b[1;33m)\u001b[0m\u001b[1;33m)\u001b[0m\u001b[1;33m\u001b[0m\u001b[0m\n\u001b[0m",
      "\u001b[1;32mC:\\Users\\djdunton\\AppData\\Local\\Continuum\\Anaconda2\\lib\\site-packages\\simplejson\\scanner.pyc\u001b[0m in \u001b[0;36mscan_once\u001b[1;34m(string, idx)\u001b[0m\n\u001b[0;32m    125\u001b[0m             \u001b[1;32mraise\u001b[0m \u001b[0mJSONDecodeError\u001b[0m\u001b[1;33m(\u001b[0m\u001b[1;34m'Expecting value'\u001b[0m\u001b[1;33m,\u001b[0m \u001b[0mstring\u001b[0m\u001b[1;33m,\u001b[0m \u001b[0midx\u001b[0m\u001b[1;33m)\u001b[0m\u001b[1;33m\u001b[0m\u001b[0m\n\u001b[0;32m    126\u001b[0m         \u001b[1;32mtry\u001b[0m\u001b[1;33m:\u001b[0m\u001b[1;33m\u001b[0m\u001b[0m\n\u001b[1;32m--> 127\u001b[1;33m             \u001b[1;32mreturn\u001b[0m \u001b[0m_scan_once\u001b[0m\u001b[1;33m(\u001b[0m\u001b[0mstring\u001b[0m\u001b[1;33m,\u001b[0m \u001b[0midx\u001b[0m\u001b[1;33m)\u001b[0m\u001b[1;33m\u001b[0m\u001b[0m\n\u001b[0m\u001b[0;32m    128\u001b[0m         \u001b[1;32mfinally\u001b[0m\u001b[1;33m:\u001b[0m\u001b[1;33m\u001b[0m\u001b[0m\n\u001b[0;32m    129\u001b[0m             \u001b[0mmemo\u001b[0m\u001b[1;33m.\u001b[0m\u001b[0mclear\u001b[0m\u001b[1;33m(\u001b[0m\u001b[1;33m)\u001b[0m\u001b[1;33m\u001b[0m\u001b[0m\n",
      "\u001b[1;32mC:\\Users\\djdunton\\AppData\\Local\\Continuum\\Anaconda2\\lib\\site-packages\\simplejson\\scanner.pyc\u001b[0m in \u001b[0;36m_scan_once\u001b[1;34m(string, idx)\u001b[0m\n\u001b[0;32m     85\u001b[0m             \u001b[0mnextchar\u001b[0m \u001b[1;33m=\u001b[0m \u001b[0mstring\u001b[0m\u001b[1;33m[\u001b[0m\u001b[0midx\u001b[0m\u001b[1;33m]\u001b[0m\u001b[1;33m\u001b[0m\u001b[0m\n\u001b[0;32m     86\u001b[0m         \u001b[1;32mexcept\u001b[0m \u001b[0mIndexError\u001b[0m\u001b[1;33m:\u001b[0m\u001b[1;33m\u001b[0m\u001b[0m\n\u001b[1;32m---> 87\u001b[1;33m             \u001b[1;32mraise\u001b[0m \u001b[0mJSONDecodeError\u001b[0m\u001b[1;33m(\u001b[0m\u001b[0merrmsg\u001b[0m\u001b[1;33m,\u001b[0m \u001b[0mstring\u001b[0m\u001b[1;33m,\u001b[0m \u001b[0midx\u001b[0m\u001b[1;33m)\u001b[0m\u001b[1;33m\u001b[0m\u001b[0m\n\u001b[0m\u001b[0;32m     88\u001b[0m \u001b[1;33m\u001b[0m\u001b[0m\n\u001b[0;32m     89\u001b[0m         \u001b[1;32mif\u001b[0m \u001b[0mnextchar\u001b[0m \u001b[1;33m==\u001b[0m \u001b[1;34m'\"'\u001b[0m\u001b[1;33m:\u001b[0m\u001b[1;33m\u001b[0m\u001b[0m\n",
      "\u001b[1;31mJSONDecodeError\u001b[0m: Expecting value: line 1 column 1 (char 0)"
     ]
    }
   ],
   "source": [
    "# Write code to present visualizations that inform your research question. \n",
    "# Remember, plot the court, plot the shots, and then \"show\" the figure.\n",
    "\n",
    "import requests\n",
    "import pandas as pd\n",
    "import nbastats.nbastats as nbastats\n",
    "\n",
    "#Determine Harden's player number and retrieve the data from the NBA stats site\n",
    "JAMES_PLAYER_ID = 201935\n",
    "james = nbastats.ShotChart(JAMES_PLAYER_ID)\n",
    "james.shotchart().head(2)\n",
    "\n",
    "#print 'Total number of 2PT and 3PT field goal shots attempted and made by James Harden: {}'.format(james_shots['SHOT_ATTEMPTED_FLAG'].sum())\n",
    "\n",
    "#plt.figure('scatter')\n",
    "#plt.title('Location of Shots')\n",
    "#x = james_shots['LOC_X']# make this just a column of the X shot locations from your datafrane above like dataframe['LOC_X']\n",
    "#y = james_shots['LOC_Y']# make this just a column of the Y shot locations from your datafrane above like dataframe['LOC_Y']\n",
    "#plt.xlim(-300,300)\n",
    "#plt.ylim(-100,450)\n",
    "#draw_court(outer_lines=True)\n",
    "#plt.scatter(x,y, alpha=.5)\n",
    "#plt.show()"
   ]
  },
  {
   "cell_type": "code",
   "execution_count": null,
   "metadata": {
    "collapsed": false
   },
   "outputs": [],
   "source": [
    "print james_shots"
   ]
  },
  {
   "cell_type": "code",
   "execution_count": null,
   "metadata": {
    "collapsed": false
   },
   "outputs": [],
   "source": [
    "# Write code to generate some basic statistics (like sum() or average()) to inform your research question.\n",
    "\n",
    "#Defining 3PT FG attempt, made, and missed variables during first half\n",
    "james_3fg_attempt_first = james_shots[(james_shots.SHOT_TYPE == '3PT Field Goal') &\n",
    "                                      (james_shots.SHOT_ATTEMPTED_FLAG == 1) & \n",
    "                                      (james_shots.PERIOD == 1) |\n",
    "                                      (james_shots.PERIOD == 2)]\n",
    "\n",
    "james_3fg_made_first = james_shots[(james_shots.SHOT_TYPE == '3PT Field Goal') &\n",
    "                                   (james_shots.SHOT_MADE_FLAG == 1) &\n",
    "                                   (james_shots.PERIOD == 1) |\n",
    "                                   (james_shots.PERIOD == 2)]\n",
    "\n",
    "james_3fg_missed_first = james_shots[(james_shots.SHOT_TYPE == '3PT Field Goal') &\n",
    "                                     (james_shots.SHOT_MADE_FLAG == 0) &\n",
    "                                     (james_shots.PERIOD == 1) |\n",
    "                                     (james_shots.PERIOD == 2)]\n",
    "\n",
    "#Defining 3PT FG attempt, made, and missed variables during second half\n",
    "james_3fg_attempt_second = james_shots[(james_shots.SHOT_TYPE == '3PT Field Goal') &\n",
    "                                      (james_shots.SHOT_ATTEMPTED_FLAG == 1) & \n",
    "                                      (james_shots.PERIOD == 3) |\n",
    "                                      (james_shots.PERIOD == 4)]\n",
    "\n",
    "james_3fg_made_second = james_shots[(james_shots.SHOT_TYPE == '3PT Field Goal') &\n",
    "                                   (james_shots.SHOT_MADE_FLAG == 1) &\n",
    "                                   (james_shots.PERIOD == 3) |\n",
    "                                   (james_shots.PERIOD == 4)]\n",
    "\n",
    "james_3fg_missed_second = james_shots[(james_shots.SHOT_TYPE == '3PT Field Goal') &\n",
    "                                     (james_shots.SHOT_MADE_FLAG == 0) &\n",
    "                                     (james_shots.PERIOD == 3) |\n",
    "                                     (james_shots.PERIOD == 4)]\n",
    "\n",
    "#Calculating probability of made 3PT FGs during first half\n",
    "james_3fg_probability_first = james_3fg_made_first['SHOT_MADE_FLAG'].count() / james_3fg_attempt_first['SHOT_MADE_FLAG'].count()\n",
    "james_3fg_probability_second = james_3fg_made_second['SHOT_MADE_FLAG'].count() / james_3fg_attempt_second['SHOT_MADE_FLAG'].count()\n",
    "\n",
    "#Printing shot attempts, made, and missed sums during first half\n",
    "print 'Number of 3PT Field Goals Attempted During First Half: {}'.format(len(james_3fg_attempt_first.index))\n",
    "print 'Number of 3PT Field Goals Made During First Half: {}'.format(len(james_3fg_made_first.index))\n",
    "print 'Number of 3PT Field Goals Missed During First Half: {}'.format(len(james_3fg_missed_first.index))\n",
    "print 'Probability of 3PT Field Goals Made During First Half: {}'.format(james_3fg_probability_first)\n",
    "\n",
    "#Defining X,Y location of 3PT FG shot made and attempted during first half\n",
    "x_attempt_first = james_3fg_attempt_first['LOC_X']\n",
    "x_made_first = james_3fg_made_first['LOC_X']\n",
    "y_attempt_first = james_3fg_attempt_first['LOC_Y']\n",
    "y_made_first = james_3fg_made_first['LOC_Y']\n",
    "\n",
    "#Plotting shots attempted and shots made during first half on court graph.\n",
    "plt.figure('scatter')\n",
    "plt.title('Location of Attempted and Made Shots for First Half')\n",
    "xa1 = x_attempt_first# make this just a column of the X shot locations from your datafrane above like dataframe['LOC_X']\n",
    "xm1 = x_made_first# make this just a column of the X shot locations from your datafrane above like dataframe['LOC_X']\n",
    "ya1 = y_attempt_first# make this just a column of the Y shot locations from your datafrane above like dataframe['LOC_Y']\n",
    "ym1 = y_made_first# make this just a column of the Y shot locations from your datafrane above like dataframe['LOC_Y']\n",
    "plt.xlim(-300,300)\n",
    "plt.ylim(-100,450)\n",
    "draw_court(outer_lines=True)\n",
    "plt.scatter(xa1,ya1, alpha=.2)\n",
    "plt.scatter(xm1,ym1, color='red', alpha=.9, marker='x')\n",
    "plt.show()\n",
    "\n",
    "#Printing shot attempts, made, and missed sums during second half\n",
    "print '\\nNumber of 3PT Field Goals Attempted During Second Half: {}'.format(len(james_3fg_attempt_second.index))\n",
    "print 'Number of 3PT Field Goals Made During Second Half: {}'.format(len(james_3fg_made_second.index))\n",
    "print 'Number of 3PT Field Goals Missed During Second Half: {}'.format(len(james_3fg_missed_second.index))\n",
    "print 'Probability of 3PT Field Goals Made During Second Half: {}'.format(james_3fg_probability_second)\n",
    "\n",
    "#Defining X,Y location of 3PT FG shot made and attempted during second half\n",
    "x_attempt_second = james_3fg_attempt_second['LOC_X']\n",
    "x_made_second = james_3fg_made_second['LOC_X']\n",
    "y_attempt_second = james_3fg_attempt_second['LOC_Y']\n",
    "y_made_second = james_3fg_made_second['LOC_Y']\n",
    "\n",
    "#Plotting shots attempted and shots made during second half on court graph.\n",
    "plt.figure('scatter')\n",
    "plt.title('Location of Attempted and Made Shots for Second Half')\n",
    "xa2 = x_attempt_second# make this just a column of the X shot locations from your datafrane above like dataframe['LOC_X']\n",
    "xm2 = x_made_second# make this just a column of the X shot locations from your datafrane above like dataframe['LOC_X']\n",
    "ya2 = y_attempt_second# make this just a column of the Y shot locations from your datafrane above like dataframe['LOC_Y']\n",
    "ym2 = y_made_second# make this just a column of the Y shot locations from your datafrane above like dataframe['LOC_Y']\n",
    "plt.xlim(-300,300)\n",
    "plt.ylim(-100,450)\n",
    "draw_court(outer_lines=True)\n",
    "plt.scatter(xa2,ya2, alpha=.2)\n",
    "plt.scatter(xm2,ym2, color='red', alpha=.9, marker='D')\n",
    "plt.show()"
   ]
  },
  {
   "cell_type": "markdown",
   "metadata": {},
   "source": [
    "## Written Response 2:\n",
    "_(Enter Your Response in This Cell)_\n",
    "\n",
    "Provide a short write up of what your analysis revealed.\n",
    "\n",
    "Based on this approach, we found that "
   ]
  },
  {
   "cell_type": "markdown",
   "metadata": {
    "collapsed": true
   },
   "source": [
    "## Written Response 3:\n",
    "_(Enter Your Response in This Cell)_\n",
    "\n",
    "* How might data available from public websites be part of a \"big data\" strategy?\n",
    "Part of the concept of \"big data\" is that data is everywhere, from hundreds/thousands/millions of resources, and covering a broad range of information topics.  Furthermore, deeper within the concept of \"big data\" is that individual users (such as our group in this class) do not need to collect/gather, and then store all this data.  Instead, using a public website as part of the \"big data\" strategy, the information that may be useful to someone is easily and readily available, without the need for the data to be duplicated and re-housed in various locations by each user looking to extract information from the data.  This approach expands the idea of the Internet, whereby one resource (a webpage) is available to billions of people from a single source of data (the web server that the webpage resides upon).\n",
    "\n",
    "* What might be some of the challenges of this approach?\n",
    "Some of the challenges using public websites can included (but are not limited to) the following:\n",
    "- Changes in the public source that cause references to break/links to no longer work\n",
    "- Communication of changes in the data; on a public site, there is no \"onus\" upon which the data source must be sure to notify users of the data repository of any changes, or worse yet, complete removal of the data source.\n",
    "- Guarantee of data integrity by the public source, especially if supplied by a public community site (such as Wikipedia) where most anyone could edit and potentially corrupt the data source\n",
    "\n"
   ]
  }
 ],
 "metadata": {
  "kernelspec": {
   "display_name": "Python 2",
   "language": "python",
   "name": "python2"
  },
  "language_info": {
   "codemirror_mode": {
    "name": "ipython",
    "version": 2
   },
   "file_extension": ".py",
   "mimetype": "text/x-python",
   "name": "python",
   "nbconvert_exporter": "python",
   "pygments_lexer": "ipython2",
   "version": "2.7.11"
  }
 },
 "nbformat": 4,
 "nbformat_minor": 0
}
